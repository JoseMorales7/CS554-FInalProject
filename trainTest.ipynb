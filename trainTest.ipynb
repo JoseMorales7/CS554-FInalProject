{
 "cells": [
  {
   "cell_type": "code",
   "execution_count": 3,
   "id": "68587935",
   "metadata": {},
   "outputs": [],
   "source": [
    "from sentence_transformers import SentenceTransformer\n",
    "import torch\n",
    "from torch_geometric.nn import GCNConv  # or GraphSAGE, GAT, etc.\n",
    "from torch_geometric.data import Data\n",
    "import numpy as np\n",
    "import pandas as pd\n",
    "\n",
    "import pickle\n",
    "\n",
    "import json\n",
    "import os"
   ]
  },
  {
   "cell_type": "code",
   "execution_count": null,
   "id": "3b1afeaa",
   "metadata": {},
   "outputs": [],
   "source": [
    "#Get Original Train dataset\n",
    "with open(os.path.join(\"./Released-Microsoft-dataset/\", \"train.txt\"), encoding='utf-8') as f:\n",
    "    train_json_data = json.load(f)\n",
    "\n",
    "#Get the edge information that I already computed\n",
    "with open('citationEdges.pkl', 'rb') as file:\n",
    "    allCitations = pickle.load(file)\n",
    "\n",
    "#Get the encoded features from the pritamdeka/BioBERT-mnli-snli-scinli-scitail-mednli-stsb model\n",
    "encodedFeatures = np.load(\"./encodedTrainFeatures.npy\")\n",
    "communities = pd.read_csv(\"./community_assignments.csv\")"
   ]
  },
  {
   "cell_type": "code",
   "execution_count": 5,
   "id": "d9c8ad73",
   "metadata": {},
   "outputs": [],
   "source": [
    "#Find the IDs of all the journels and set custom IDs for training (0-N)\n",
    "allIds = []\n",
    "\n",
    "for idx, doc in enumerate(train_json_data):\n",
    "    allIds.append(int(doc[\"publication_ID\"]))\n",
    "\n",
    "sortedIds = sorted(allIds)\n",
    "pubIdToId = {id: idx for idx, id in enumerate(sortedIds)}"
   ]
  },
  {
   "cell_type": "code",
   "execution_count": 6,
   "id": "c28e1211",
   "metadata": {},
   "outputs": [],
   "source": [
    "#Remove NA rows and sort communities by node id\n",
    "communities = communities.dropna(subset=['node_id'])\n",
    "communities['node_id'] = communities['node_id'].astype(int)\n",
    "communities = communities.sort_values(by='node_id')\n"
   ]
  },
  {
   "cell_type": "code",
   "execution_count": 7,
   "id": "5307c35f",
   "metadata": {},
   "outputs": [],
   "source": [
    "#Create mapping of paper to community (not complete cause of data)\n",
    "pubIdToCommunity = {}\n",
    "for index, row in communities.iterrows():\n",
    "    pubIdToCommunity[int(row[\"node_id\"])] = int(row[\"community_id\"])"
   ]
  },
  {
   "cell_type": "code",
   "execution_count": null,
   "id": "8a3accfc",
   "metadata": {},
   "outputs": [],
   "source": [
    "#Get the communities of each node as label tensor\n",
    "allCommunities = []\n",
    "\n",
    "\n",
    "for idx, doc in enumerate(train_json_data):\n",
    "    docId = int(doc[\"publication_ID\"])\n",
    "\n",
    "    #Most of the training data missing so skipped\n",
    "    if docId not in list(pubIdToCommunity.keys()):\n",
    "        continue\n",
    "\n",
    "    allCommunities.append(pubIdToCommunity[docId])\n",
    "    "
   ]
  },
  {
   "cell_type": "code",
   "execution_count": 9,
   "id": "ca2210cb",
   "metadata": {},
   "outputs": [],
   "source": [
    "y = torch.tensor(allCommunities, dtype=torch.long)"
   ]
  },
  {
   "cell_type": "code",
   "execution_count": 27,
   "id": "b4687000",
   "metadata": {},
   "outputs": [],
   "source": [
    "#Data object needed for GNNs\n",
    "data = Data(\n",
    "    x=torch.tensor(encodedFeatures),         # [num_nodes, embedding_dim]\n",
    "    edge_index=torch.tensor(allCitations).T,  # [2, num_edges]\n",
    "    y=y,                    # [num_nodes]\n",
    ")"
   ]
  },
  {
   "cell_type": "code",
   "execution_count": 13,
   "id": "a4b65ce2",
   "metadata": {},
   "outputs": [],
   "source": [
    "#Simple GNN model\n",
    "class GNNModel(torch.nn.Module):\n",
    "    def __init__(self):\n",
    "        super(GNNModel, self).__init__()\n",
    "        self.gcn1 = GCNConv(768, 256)\n",
    "        self.gcn2 = GCNConv(256, 128)\n",
    "        self.relu = torch.nn.ReLU()\n",
    "        self.dropout = torch.nn.Dropout(0.3)\n",
    "\n",
    "    def forward(self, x, edge_index):\n",
    "        x = self.relu(self.gcn1(x, edge_index))\n",
    "        x = self.dropout(x)\n",
    "        x = self.gcn2(x, edge_index)\n",
    "        return x"
   ]
  },
  {
   "cell_type": "code",
   "execution_count": null,
   "id": "65600cb4",
   "metadata": {},
   "outputs": [
    {
     "ename": "ValueError",
     "evalue": "Expected input batch_size (42000) to match target batch_size (939).",
     "output_type": "error",
     "traceback": [
      "\u001b[0;31m---------------------------------------------------------------------------\u001b[0m\n",
      "\u001b[0;31mValueError\u001b[0m                                Traceback (most recent call last)\n",
      "Cell \u001b[0;32mIn[40], line 10\u001b[0m\n",
      "\u001b[1;32m      7\u001b[0m optimizer\u001b[38;5;241m.\u001b[39mzero_grad()\n",
      "\u001b[1;32m      9\u001b[0m out \u001b[38;5;241m=\u001b[39m model(data\u001b[38;5;241m.\u001b[39mx, data\u001b[38;5;241m.\u001b[39medge_index)             \u001b[38;5;66;03m# forward pass\u001b[39;00m\n",
      "\u001b[0;32m---> 10\u001b[0m loss \u001b[38;5;241m=\u001b[39m \u001b[43mtorch\u001b[49m\u001b[38;5;241;43m.\u001b[39;49m\u001b[43mnn\u001b[49m\u001b[38;5;241;43m.\u001b[39;49m\u001b[43mfunctional\u001b[49m\u001b[38;5;241;43m.\u001b[39;49m\u001b[43mcross_entropy\u001b[49m\u001b[43m(\u001b[49m\u001b[43mout\u001b[49m\u001b[43m,\u001b[49m\u001b[43m \u001b[49m\u001b[43mdata\u001b[49m\u001b[38;5;241;43m.\u001b[39;49m\u001b[43my\u001b[49m\u001b[43m)\u001b[49m  \u001b[38;5;66;03m# compute loss\u001b[39;00m\n",
      "\u001b[1;32m     11\u001b[0m loss\u001b[38;5;241m.\u001b[39mbackward()\n",
      "\u001b[1;32m     12\u001b[0m optimizer\u001b[38;5;241m.\u001b[39mstep()\n",
      "\n",
      "File \u001b[0;32m~/Downloads/ENTER/envs/HW/lib/python3.10/site-packages/torch/nn/functional.py:3053\u001b[0m, in \u001b[0;36mcross_entropy\u001b[0;34m(input, target, weight, size_average, ignore_index, reduce, reduction, label_smoothing)\u001b[0m\n",
      "\u001b[1;32m   3051\u001b[0m \u001b[38;5;28;01mif\u001b[39;00m size_average \u001b[38;5;129;01mis\u001b[39;00m \u001b[38;5;129;01mnot\u001b[39;00m \u001b[38;5;28;01mNone\u001b[39;00m \u001b[38;5;129;01mor\u001b[39;00m reduce \u001b[38;5;129;01mis\u001b[39;00m \u001b[38;5;129;01mnot\u001b[39;00m \u001b[38;5;28;01mNone\u001b[39;00m:\n",
      "\u001b[1;32m   3052\u001b[0m     reduction \u001b[38;5;241m=\u001b[39m _Reduction\u001b[38;5;241m.\u001b[39mlegacy_get_string(size_average, reduce)\n",
      "\u001b[0;32m-> 3053\u001b[0m \u001b[38;5;28;01mreturn\u001b[39;00m \u001b[43mtorch\u001b[49m\u001b[38;5;241;43m.\u001b[39;49m\u001b[43m_C\u001b[49m\u001b[38;5;241;43m.\u001b[39;49m\u001b[43m_nn\u001b[49m\u001b[38;5;241;43m.\u001b[39;49m\u001b[43mcross_entropy_loss\u001b[49m\u001b[43m(\u001b[49m\u001b[38;5;28;43minput\u001b[39;49m\u001b[43m,\u001b[49m\u001b[43m \u001b[49m\u001b[43mtarget\u001b[49m\u001b[43m,\u001b[49m\u001b[43m \u001b[49m\u001b[43mweight\u001b[49m\u001b[43m,\u001b[49m\u001b[43m \u001b[49m\u001b[43m_Reduction\u001b[49m\u001b[38;5;241;43m.\u001b[39;49m\u001b[43mget_enum\u001b[49m\u001b[43m(\u001b[49m\u001b[43mreduction\u001b[49m\u001b[43m)\u001b[49m\u001b[43m,\u001b[49m\u001b[43m \u001b[49m\u001b[43mignore_index\u001b[49m\u001b[43m,\u001b[49m\u001b[43m \u001b[49m\u001b[43mlabel_smoothing\u001b[49m\u001b[43m)\u001b[49m\n",
      "\n",
      "\u001b[0;31mValueError\u001b[0m: Expected input batch_size (42000) to match target batch_size (939)."
     ]
    }
   ],
   "source": [
    "#Train loop, errors out cause data incomplete\n",
    "model = GNNModel()\n",
    "optimizer = torch.optim.Adam(model.parameters(), lr=1e-3)\n",
    "\n",
    "# Assuming `data` is your PyG Data object (with .x, .edge_index, .y, .train_mask)\n",
    "model.train()\n",
    "for epoch in range(100):\n",
    "    optimizer.zero_grad()\n",
    "\n",
    "    out = model(data.x, data.edge_index)             # forward pass\n",
    "    loss = torch.nn.functional.cross_entropy(out, data.y)  # compute loss\n",
    "    loss.backward()\n",
    "    optimizer.step()\n",
    "\n",
    "    print(f\"Epoch {epoch}, Loss: {loss.item():.4f}\")\n"
   ]
  }
 ],
 "metadata": {
  "kernelspec": {
   "display_name": "Python 3.12.6 64-bit",
   "language": "python",
   "name": "python3"
  },
  "language_info": {
   "codemirror_mode": {
    "name": "ipython",
    "version": 3
   },
   "file_extension": ".py",
   "mimetype": "text/x-python",
   "name": "python",
   "nbconvert_exporter": "python",
   "pygments_lexer": "ipython3",
   "version": "3.12.6"
  },
  "vscode": {
   "interpreter": {
    "hash": "3fcbd7240ee8f908d933dc7f71e8c42a1a91163b70ede8dcff5146d4087436c7"
   }
  }
 },
 "nbformat": 4,
 "nbformat_minor": 5
}
