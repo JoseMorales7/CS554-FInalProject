{
 "cells": [
  {
   "cell_type": "code",
   "execution_count": 1,
   "id": "68587935",
   "metadata": {},
   "outputs": [
    {
     "name": "stderr",
     "output_type": "stream",
     "text": [
      "/home/vislab-001/Downloads/ENTER/envs/HW/lib/python3.10/site-packages/tqdm/auto.py:21: TqdmWarning: IProgress not found. Please update jupyter and ipywidgets. See https://ipywidgets.readthedocs.io/en/stable/user_install.html\n",
      "  from .autonotebook import tqdm as notebook_tqdm\n"
     ]
    }
   ],
   "source": [
    "from sentence_transformers import SentenceTransformer\n",
    "import torch\n",
    "from torch_geometric.nn import GCNConv  # or GraphSAGE, GAT, etc.\n",
    "from torch_geometric.data import Data\n",
    "import numpy as np\n",
    "import pandas as pd\n",
    "\n",
    "import pickle\n",
    "\n",
    "import json\n",
    "import os\n",
    "\n",
    "from torch.utils.data import TensorDataset, DataLoader\n",
    "from tqdm import tqdm"
   ]
  },
  {
   "cell_type": "code",
   "execution_count": 2,
   "id": "341ebfe8",
   "metadata": {},
   "outputs": [],
   "source": [
    "device = \"cuda:1\""
   ]
  },
  {
   "cell_type": "code",
   "execution_count": 3,
   "id": "5b362f11",
   "metadata": {},
   "outputs": [
    {
     "name": "stderr",
     "output_type": "stream",
     "text": [
      "/home/vislab-001/Downloads/ENTER/envs/HW/lib/python3.10/site-packages/torch/_utils.py:831: UserWarning: TypedStorage is deprecated. It will be removed in the future and UntypedStorage will be the only storage class. This should only matter to you if you are using storages directly.  To access UntypedStorage directly, use tensor.untyped_storage() instead of tensor.storage()\n",
      "  return self.fget.__get__(instance, owner)()\n"
     ]
    }
   ],
   "source": [
    "from sentence_transformers import SentenceTransformer\n",
    "\n",
    "\n",
    "# 1. Load a pretrained Sentence Transformer model\n",
    "sentTransformer = SentenceTransformer('pritamdeka/BioBERT-mnli-snli-scinli-scitail-mednli-stsb').to(\"cuda:1\")"
   ]
  },
  {
   "cell_type": "code",
   "execution_count": 4,
   "id": "822a9549",
   "metadata": {},
   "outputs": [],
   "source": [
    "df = pd.read_pickle(\"./publications_clustered_kmeans.pkl\")"
   ]
  },
  {
   "cell_type": "code",
   "execution_count": 5,
   "id": "16ad9911",
   "metadata": {},
   "outputs": [],
   "source": [
    "df = df[['publication_ID', 'Citations', 'title', 'abstract', 'cluster']]"
   ]
  },
  {
   "cell_type": "code",
   "execution_count": 13,
   "id": "8da41e51",
   "metadata": {},
   "outputs": [
    {
     "data": {
      "text/plain": [
       "Index(['publication_ID', 'Citations', 'title', 'abstract', 'cluster'], dtype='object')"
      ]
     },
     "execution_count": 13,
     "metadata": {},
     "output_type": "execute_result"
    }
   ],
   "source": [
    "df.columns"
   ]
  },
  {
   "cell_type": "code",
   "execution_count": 6,
   "id": "a67f0363",
   "metadata": {},
   "outputs": [],
   "source": [
    "val = pd.read_csv(\"publications_val.csv\")[['publication_ID', 'Citations', 'title', 'abstract']]\n",
    "test = pd.read_csv(\"publications_test.csv\")[['publication_ID', 'Citations', 'title', 'abstract']]\n"
   ]
  },
  {
   "cell_type": "code",
   "execution_count": 7,
   "id": "2522d2bf",
   "metadata": {},
   "outputs": [],
   "source": [
    "val[\"cluster\"] = -1\n",
    "test[\"cluster\"] = -1\n"
   ]
  },
  {
   "cell_type": "code",
   "execution_count": 16,
   "id": "56b0ebfe",
   "metadata": {},
   "outputs": [
    {
     "data": {
      "text/plain": [
       "Index(['publication_ID', 'Citations', 'title', 'abstract', 'cluster'], dtype='object')"
      ]
     },
     "execution_count": 16,
     "metadata": {},
     "output_type": "execute_result"
    }
   ],
   "source": [
    "val.columns"
   ]
  },
  {
   "cell_type": "code",
   "execution_count": 19,
   "id": "76acd591",
   "metadata": {},
   "outputs": [
    {
     "name": "stdout",
     "output_type": "stream",
     "text": [
      "(9000, 5)\n",
      "(9000, 5)\n"
     ]
    }
   ],
   "source": [
    "print(val.shape)\n",
    "print(test.shape)\n"
   ]
  },
  {
   "cell_type": "code",
   "execution_count": 8,
   "id": "5f837966",
   "metadata": {},
   "outputs": [],
   "source": [
    "df = pd.concat([df, val, test], ignore_index=True)"
   ]
  },
  {
   "cell_type": "code",
   "execution_count": 18,
   "id": "848d9bf5",
   "metadata": {},
   "outputs": [
    {
     "data": {
      "text/plain": [
       "(60000, 5)"
      ]
     },
     "execution_count": 18,
     "metadata": {},
     "output_type": "execute_result"
    }
   ],
   "source": [
    "df.shape"
   ]
  },
  {
   "cell_type": "code",
   "execution_count": 20,
   "id": "bc39bc2d",
   "metadata": {},
   "outputs": [],
   "source": [
    "embeddings = []\n",
    "\n",
    "for index, row in df.iterrows():\n",
    "    # pubIdToCommunity[int(row[\"node_id\"])] = int(row[\"community_id\"])\n",
    "    sentence = row[\"title\"] + \". \" + str(row[\"abstract\"])\n",
    "    embeddings.append(sentTransformer.encode([sentence]))\n"
   ]
  },
  {
   "cell_type": "code",
   "execution_count": 21,
   "id": "c563b217",
   "metadata": {},
   "outputs": [],
   "source": [
    "embeddings = np.array(embeddings).squeeze(axis=1)\n",
    "np.save(\"./encodedTrainValTestFeatures.npy\", embeddings)"
   ]
  },
  {
   "cell_type": "code",
   "execution_count": 9,
   "id": "5cabd1dd",
   "metadata": {},
   "outputs": [],
   "source": [
    "embeddings = np.load(\"./encodedTrainValTestFeatures.npy\")"
   ]
  },
  {
   "cell_type": "code",
   "execution_count": 10,
   "id": "2a7eb0a1",
   "metadata": {},
   "outputs": [],
   "source": [
    "allIds = []\n",
    "\n",
    "\n",
    "for index, row in df.iterrows():\n",
    "    allIds.append(int(row[\"publication_ID\"]))\n",
    "\n",
    "sortedIds = sorted(allIds)\n",
    "pubIdToId = {id: idx for idx, id in enumerate(sortedIds)}"
   ]
  },
  {
   "cell_type": "code",
   "execution_count": 11,
   "id": "2dc888fd",
   "metadata": {},
   "outputs": [],
   "source": [
    "allCitations = []\n",
    "\n",
    "for index, row in df.iterrows():\n",
    "    # print(doc[\"title\"])\n",
    "    # print(doc[\"abstract\"])\n",
    "    # print(idx)\n",
    "\n",
    "    # print(doc[\"Citations\"])\n",
    "    # print(idx)\n",
    "    if type(row[\"Citations\"]) == int:\n",
    "        continue\n",
    "    citations = row[\"Citations\"].split(\";\")\n",
    "    docId = int(row[\"publication_ID\"])\n",
    "    # print(citations)\n",
    "    for citation in citations:\n",
    "        if citation == \"nan\" or int(citation) not in pubIdToId.keys():\n",
    "            continue\n",
    "        tup = (pubIdToId[docId], pubIdToId[int(citation)])\n",
    "        # print(pubIdToId[docId])\n",
    "        # print(pubIdToId[citation])\n",
    "        # print(tup)\n",
    "        allCitations.append((pubIdToId[docId], pubIdToId[int(citation)]))"
   ]
  },
  {
   "cell_type": "code",
   "execution_count": 12,
   "id": "8a3accfc",
   "metadata": {},
   "outputs": [],
   "source": [
    "allCommunities = df[\"cluster\"].to_list()\n",
    "    "
   ]
  },
  {
   "cell_type": "code",
   "execution_count": 13,
   "id": "ca2210cb",
   "metadata": {},
   "outputs": [],
   "source": [
    "y = torch.tensor(allCommunities, dtype=torch.long)"
   ]
  },
  {
   "cell_type": "code",
   "execution_count": 14,
   "id": "2f09146c",
   "metadata": {},
   "outputs": [],
   "source": [
    "train_mask = torch.zeros(df.shape[0], dtype=bool)\n",
    "val_mask   = torch.zeros(df.shape[0], dtype=bool)\n",
    "test_mask  = torch.zeros(df.shape[0], dtype=bool)"
   ]
  },
  {
   "cell_type": "code",
   "execution_count": 15,
   "id": "3ba58891",
   "metadata": {},
   "outputs": [
    {
     "data": {
      "text/plain": [
       "(42000, 14)"
      ]
     },
     "execution_count": 15,
     "metadata": {},
     "output_type": "execute_result"
    }
   ],
   "source": [
    "pd.read_pickle(\"./publications_clustered_kmeans.pkl\").shape"
   ]
  },
  {
   "cell_type": "code",
   "execution_count": 16,
   "id": "af390d31",
   "metadata": {},
   "outputs": [],
   "source": [
    "train_mask[:42000] = True\n",
    "val_mask[42000:51000] = True\n",
    "test_mask[51000:] = True"
   ]
  },
  {
   "cell_type": "code",
   "execution_count": 17,
   "id": "b4687000",
   "metadata": {},
   "outputs": [],
   "source": [
    "data = Data(\n",
    "    x=torch.tensor(embeddings),         # [num_nodes, embedding_dim]\n",
    "    edge_index=torch.tensor(allCitations).T,  # [2, num_edges]\n",
    "    y=y,                    # [num_nodes]\n",
    "    train_mask=train_mask,\n",
    "    val_mask=val_mask,\n",
    "    test_mask=test_mask\n",
    ").to(device)"
   ]
  },
  {
   "cell_type": "code",
   "execution_count": 18,
   "id": "a4b65ce2",
   "metadata": {},
   "outputs": [],
   "source": [
    "class GNNModel(torch.nn.Module):\n",
    "    def __init__(self, num_classes):\n",
    "        super().__init__()\n",
    "        self.gcn1 = GCNConv(768, 256)\n",
    "        self.gcn2 = GCNConv(256, 128)\n",
    "        self.classifier = torch.nn.Linear(128, num_classes)\n",
    "        self.relu = torch.nn.ReLU()\n",
    "        self.dropout = torch.nn.Dropout(0.3)\n",
    "\n",
    "    def forward(self, x, edge_index):\n",
    "        x = self.relu(self.gcn1(x, edge_index))\n",
    "        x = self.dropout(x)\n",
    "        x = self.gcn2(x, edge_index)\n",
    "        return self.classifier(x)"
   ]
  },
  {
   "cell_type": "code",
   "execution_count": 19,
   "id": "65600cb4",
   "metadata": {},
   "outputs": [
    {
     "name": "stdout",
     "output_type": "stream",
     "text": [
      "Epoch 0, Loss: 5.3399\n",
      "Epoch 1, Loss: 5.2608\n",
      "Epoch 2, Loss: 5.1894\n",
      "Epoch 3, Loss: 5.1223\n",
      "Epoch 4, Loss: 5.0510\n",
      "Epoch 5, Loss: 4.9730\n",
      "Epoch 6, Loss: 4.8860\n",
      "Epoch 7, Loss: 4.7907\n",
      "Epoch 8, Loss: 4.6861\n",
      "Epoch 9, Loss: 4.5775\n",
      "Epoch 10, Loss: 4.4638\n",
      "Epoch 11, Loss: 4.3434\n",
      "Epoch 12, Loss: 4.2180\n",
      "Epoch 13, Loss: 4.0855\n",
      "Epoch 14, Loss: 3.9549\n",
      "Epoch 15, Loss: 3.8219\n",
      "Epoch 16, Loss: 3.6896\n",
      "Epoch 17, Loss: 3.5621\n",
      "Epoch 18, Loss: 3.4372\n",
      "Epoch 19, Loss: 3.3109\n",
      "Epoch 20, Loss: 3.1887\n",
      "Epoch 21, Loss: 3.0682\n",
      "Epoch 22, Loss: 2.9517\n",
      "Epoch 23, Loss: 2.8472\n",
      "Epoch 24, Loss: 2.7446\n",
      "Epoch 25, Loss: 2.6433\n",
      "Epoch 26, Loss: 2.5529\n",
      "Epoch 27, Loss: 2.4625\n",
      "Epoch 28, Loss: 2.3761\n",
      "Epoch 29, Loss: 2.3061\n",
      "Epoch 30, Loss: 2.2355\n",
      "Epoch 31, Loss: 2.1704\n",
      "Epoch 32, Loss: 2.1076\n",
      "Epoch 33, Loss: 2.0400\n",
      "Epoch 34, Loss: 1.9967\n",
      "Epoch 35, Loss: 1.9457\n",
      "Epoch 36, Loss: 1.9060\n",
      "Epoch 37, Loss: 1.8651\n",
      "Epoch 38, Loss: 1.8209\n",
      "Epoch 39, Loss: 1.7801\n",
      "Epoch 40, Loss: 1.7499\n",
      "Epoch 41, Loss: 1.7171\n",
      "Epoch 42, Loss: 1.6892\n",
      "Epoch 43, Loss: 1.6600\n",
      "Epoch 44, Loss: 1.6380\n",
      "Epoch 45, Loss: 1.6180\n",
      "Epoch 46, Loss: 1.5902\n",
      "Epoch 47, Loss: 1.5659\n",
      "Epoch 48, Loss: 1.5511\n",
      "Epoch 49, Loss: 1.5376\n",
      "Epoch 50, Loss: 1.5143\n",
      "Epoch 51, Loss: 1.4943\n",
      "Epoch 52, Loss: 1.4778\n",
      "Epoch 53, Loss: 1.4665\n",
      "Epoch 54, Loss: 1.4514\n",
      "Epoch 55, Loss: 1.4361\n",
      "Epoch 56, Loss: 1.4210\n",
      "Epoch 57, Loss: 1.4090\n",
      "Epoch 58, Loss: 1.3990\n",
      "Epoch 59, Loss: 1.3914\n",
      "Epoch 60, Loss: 1.3747\n",
      "Epoch 61, Loss: 1.3651\n",
      "Epoch 62, Loss: 1.3557\n",
      "Epoch 63, Loss: 1.3471\n",
      "Epoch 64, Loss: 1.3299\n",
      "Epoch 65, Loss: 1.3295\n",
      "Epoch 66, Loss: 1.3214\n",
      "Epoch 67, Loss: 1.3154\n",
      "Epoch 68, Loss: 1.2994\n",
      "Epoch 69, Loss: 1.2936\n",
      "Epoch 70, Loss: 1.2848\n",
      "Epoch 71, Loss: 1.2819\n",
      "Epoch 72, Loss: 1.2758\n",
      "Epoch 73, Loss: 1.2679\n",
      "Epoch 74, Loss: 1.2549\n",
      "Epoch 75, Loss: 1.2471\n",
      "Epoch 76, Loss: 1.2462\n",
      "Epoch 77, Loss: 1.2377\n",
      "Epoch 78, Loss: 1.2385\n",
      "Epoch 79, Loss: 1.2280\n",
      "Epoch 80, Loss: 1.2238\n",
      "Epoch 81, Loss: 1.2141\n",
      "Epoch 82, Loss: 1.2085\n",
      "Epoch 83, Loss: 1.2038\n",
      "Epoch 84, Loss: 1.1929\n",
      "Epoch 85, Loss: 1.1902\n",
      "Epoch 86, Loss: 1.1861\n",
      "Epoch 87, Loss: 1.1831\n",
      "Epoch 88, Loss: 1.1762\n",
      "Epoch 89, Loss: 1.1724\n",
      "Epoch 90, Loss: 1.1673\n",
      "Epoch 91, Loss: 1.1603\n",
      "Epoch 92, Loss: 1.1557\n",
      "Epoch 93, Loss: 1.1531\n",
      "Epoch 94, Loss: 1.1499\n",
      "Epoch 95, Loss: 1.1489\n",
      "Epoch 96, Loss: 1.1385\n",
      "Epoch 97, Loss: 1.1371\n",
      "Epoch 98, Loss: 1.1332\n",
      "Epoch 99, Loss: 1.1261\n"
     ]
    }
   ],
   "source": [
    "model = GNNModel(200).to(device)\n",
    "optimizer = torch.optim.Adam(model.parameters(), lr=1e-3)\n",
    "\n",
    "# Assuming `data` is your PyG Data object (with .x, .edge_index, .y, .train_mask)\n",
    "model.train()\n",
    "for epoch in range(100):\n",
    "    optimizer.zero_grad()\n",
    "\n",
    "    out = model(data.x, data.edge_index)             # forward pass\n",
    "    loss = torch.nn.functional.cross_entropy(out[data.train_mask], data.y[data.train_mask])  # compute loss\n",
    "    loss.backward()\n",
    "    optimizer.step()\n",
    "\n",
    "    print(f\"Epoch {epoch}, Loss: {loss.item():.4f}\")\n"
   ]
  },
  {
   "cell_type": "code",
   "execution_count": 36,
   "id": "70b8dc3c",
   "metadata": {},
   "outputs": [
    {
     "data": {
      "image/png": "[encoded data removed]",
      "text/plain": [
       "<Figure size 1000x600 with 1 Axes>"
      ]
     },
     "metadata": {},
     "output_type": "display_data"
    }
   ],
   "source": [
    "import matplotlib.pyplot as plt\n",
    "\n",
    "# Loss values per epoch\n",
    "loss_values = [\n",
    "    5.3399, 5.2608, 5.1894, 5.1223, 5.0510, 4.9730, 4.8860, 4.7907, 4.6861, 4.5775,\n",
    "    4.4638, 4.3434, 4.2180, 4.0855, 3.9549, 3.8219, 3.6896, 3.5621, 3.4372, 3.3109,\n",
    "    3.1887, 3.0682, 2.9517, 2.8472, 2.7446, 2.6433, 2.5529, 2.4625, 2.3761, 2.3061,\n",
    "    2.2355, 2.1704, 2.1076, 2.0400, 1.9967, 1.9457, 1.9060, 1.8651, 1.8209, 1.7801,\n",
    "    1.7499, 1.7171, 1.6892, 1.6600, 1.6380, 1.6180, 1.5902, 1.5659, 1.5511, 1.5376,\n",
    "    1.5143, 1.4943, 1.4778, 1.4665, 1.4514, 1.4361, 1.4210, 1.4090, 1.3990, 1.3914,\n",
    "    1.3747, 1.3651, 1.3557, 1.3471, 1.3299, 1.3295, 1.3214, 1.3154, 1.2994, 1.2936,\n",
    "    1.2848, 1.2819, 1.2758, 1.2679, 1.2549, 1.2471, 1.2462, 1.2377, 1.2385, 1.2280,\n",
    "    1.2238, 1.2141, 1.2085, 1.2038, 1.1929, 1.1902, 1.1861, 1.1831, 1.1762, 1.1724,\n",
    "    1.1673, 1.1603, 1.1557, 1.1531, 1.1499, 1.1489, 1.1385, 1.1371, 1.1332, 1.1261\n",
    "]\n",
    "\n",
    "epochs = list(range(len(loss_values)))\n",
    "\n",
    "# Plotting\n",
    "plt.figure(figsize=(10, 6))\n",
    "plt.plot(epochs, loss_values)\n",
    "plt.title('Training Loss over Epochs')\n",
    "plt.xlabel('Epoch')\n",
    "plt.ylabel('Loss')\n",
    "plt.grid(True)\n",
    "plt.tight_layout()\n",
    "plt.show()\n"
   ]
  },
  {
   "cell_type": "code",
   "execution_count": 16,
   "id": "0418ad0e",
   "metadata": {},
   "outputs": [
    {
     "data": {
      "text/plain": [
       "torch.Size([42000, 200])"
      ]
     },
     "execution_count": 16,
     "metadata": {},
     "output_type": "execute_result"
    }
   ],
   "source": [
    "out.shape"
   ]
  },
  {
   "cell_type": "code",
   "execution_count": 22,
   "id": "88b1816a",
   "metadata": {},
   "outputs": [],
   "source": [
    "with torch.no_grad():\n",
    "    x = model.relu(model.gcn1(data.x, data.edge_index))\n",
    "    newTrainEmbeddings = model.gcn2(x, data.edge_index)[data.train_mask]\n",
    "    newValEmbeddings = model.gcn2(x, data.edge_index)[data.val_mask]\n",
    "    newTestEmbeddings = model.gcn2(x, data.edge_index)[data.test_mask]\n"
   ]
  },
  {
   "cell_type": "code",
   "execution_count": 23,
   "id": "da180f84",
   "metadata": {},
   "outputs": [
    {
     "name": "stdout",
     "output_type": "stream",
     "text": [
      "torch.Size([42000, 128])\n",
      "torch.Size([9000, 128])\n",
      "torch.Size([9000, 128])\n"
     ]
    }
   ],
   "source": [
    "print(newTrainEmbeddings.shape)\n",
    "print(newValEmbeddings.shape)\n",
    "print(newTestEmbeddings.shape)\n"
   ]
  },
  {
   "cell_type": "code",
   "execution_count": 25,
   "id": "7690783e",
   "metadata": {},
   "outputs": [],
   "source": [
    "import torch.nn.functional as F\n"
   ]
  },
  {
   "cell_type": "code",
   "execution_count": 29,
   "id": "7d81bfa8",
   "metadata": {},
   "outputs": [],
   "source": [
    "# Normalize both sets of embeddings\n",
    "train_norm = F.normalize(newTrainEmbeddings, dim=1)       # [42000, 128]\n",
    "test_norm = F.normalize(newTestEmbeddings, dim=1)         # [9000, 128]\n",
    "\n",
    "# Compute cosine similarity: matrix multiplication gives all pairwise cosines\n",
    "cosine_sim_matrix = test_norm @ train_norm.T              # [9000, 42000]\n",
    "\n",
    "# Get top-5 train article indices for each test embedding\n",
    "topk_values, topk_indices = torch.topk(cosine_sim_matrix, k=5, dim=1)  # both [9000, 5]"
   ]
  },
  {
   "cell_type": "code",
   "execution_count": 34,
   "id": "43d709a2",
   "metadata": {},
   "outputs": [
    {
     "data": {
      "text/plain": [
       "tensor(0.8668, device='cuda:1')"
      ]
     },
     "execution_count": 34,
     "metadata": {},
     "output_type": "execute_result"
    }
   ],
   "source": [
    "topk_values.mean()"
   ]
  },
  {
   "cell_type": "code",
   "execution_count": 38,
   "id": "1fbf4535",
   "metadata": {},
   "outputs": [
    {
     "name": "stdout",
     "output_type": "stream",
     "text": [
      "tensor([0.8974, 0.7925, 0.7922, 0.7854, 0.7738], device='cuda:1')\n"
     ]
    },
    {
     "data": {
      "text/plain": [
       "tensor([30975, 20423, 16949, 17977, 29553], device='cuda:1')"
      ]
     },
     "execution_count": 38,
     "metadata": {},
     "output_type": "execute_result"
    }
   ],
   "source": [
    "print(topk_values[0])\n",
    "topk_indices[0]"
   ]
  },
  {
   "cell_type": "code",
   "execution_count": 46,
   "id": "eca75b7b",
   "metadata": {},
   "outputs": [
    {
     "data": {
      "text/plain": [
       "'Elevated plasma endothelin 1 and pulmonary arterial pressure in children exposed to air pollution'"
      ]
     },
     "execution_count": 46,
     "metadata": {},
     "output_type": "execute_result"
    }
   ],
   "source": [
    "test.iloc[0][[\"publication_ID\", \"title\", \"abstract\"]][\"title\"]"
   ]
  },
  {
   "cell_type": "code",
   "execution_count": 51,
   "id": "a28fcf8f",
   "metadata": {},
   "outputs": [
    {
     "name": "stdout",
     "output_type": "stream",
     "text": [
      "18368620\n",
      "Systemic inflammation endothelial dysfunction and activation in clinically healthy children exposed to air pollutants\n",
      "\n",
      "23788629\n",
      "A synergistic vascular effect of airborne particulate matter and nickel in a mouse model\n",
      "\n",
      "19297138\n",
      "Urban air pollution influences on olfactory function and pathology in exposed children and young adults\n",
      "\n",
      "19171930\n",
      "Immunotoxicity and environment immunodysregulation and systemic inflammation in children\n",
      "\n",
      "18939566\n",
      "Spatial and temporal trends of polycyclic aromatic hydrocarbons and other traffic related airborne pollutants in New York City\n",
      "\n"
     ]
    }
   ],
   "source": [
    "for idx in topk_indices[0]:\n",
    "    print(df.iloc[idx.item()][[\"publication_ID\", \"title\", \"abstract\"]][\"publication_ID\"])\n",
    "    print(df.iloc[idx.item()][[\"publication_ID\", \"title\", \"abstract\"]][\"title\"])\n",
    "\n",
    "    print()"
   ]
  },
  {
   "cell_type": "code",
   "execution_count": 43,
   "id": "3e10a8e4",
   "metadata": {},
   "outputs": [
    {
     "name": "stdout",
     "output_type": "stream",
     "text": [
      "Systemic inflammation endothelial dysfunction and activation in clinically healthy children exposed to air pollutants\n",
      "Mexico City children are chronically exposed to significant concentrations of air pollutants and exhibit chronic respiratory-tract inflammation. Epidemiological, controlled human exposures, laboratory-based animal models, and in vitro/in vivo studies have shown that inflammatory, endothelial dysfunction, and endothelial damage mediators are upregulated upon exposure to particulate matter (PM). Endothelial dysfunction is a critical event in cardiovascular disease. The focus of this work was to investigate whether exposure to ambient air pollution including PM(2.5) produces systemic inflammation and endothelial injury in healthy children. We measured markers of endothelial activation, and inflammatory mediators in 52 children age 8.6+/-0.1 yr, residents of Mexico City (n: 28) or of PolotitlÃ¡n (n: 24), a city with low levels of pollutants. Mexico City children had significant increases in inflammatory mediators and vasoconstrictors, including tumor necrosis factor (TNF)alpha, prostaglandin (PG) E2, C-reactive protein, interleukin-1beta, and endothelin-1. There was a significant anti-inflammatory response, and a downregulation of vascular adhesion molecule-1, intercellular adhesion molecule-1 and -2, and selectins sE and sL. Results from linear regression found TNF a positively associated with 24- and 48-h cumulative levels of PM(2.5), while the 7-d PM(2.5) value was negatively associated with the numbers of white blood cells in peripheral blood in highly exposed children. Systemic subclinical inflammation, increased endothelin- 1, and significant downregulation of soluble adhesion molecules are seen in Mexico City children. Children chronically exposed to fine PM above the standard could be at risk of developing cardiovascular diseases, atherosclerosis, stroke, and other systemic effects later in life.\n",
      "66\n"
     ]
    }
   ],
   "source": [
    "idx = 30975\n",
    "print(df.iloc[idx][\"title\"])\n",
    "print(df.iloc[idx][\"abstract\"])\n",
    "print(df.iloc[idx][\"cluster\"])"
   ]
  },
  {
   "cell_type": "code",
   "execution_count": 42,
   "id": "89f6c36d",
   "metadata": {},
   "outputs": [
    {
     "data": {
      "text/plain": [
       "publication_ID                                             17396995\n",
       "Citations         17957262;21818356;24164861;21818356;24164861;2...\n",
       "pubDate                                                  2007 May 1\n",
       "language                                                        eng\n",
       "title             Herpes simplex virus type 2 infection does not...\n",
       "journal                          The Journal of infectious diseases\n",
       "abstract          We sought to compare baseline and longitudinal...\n",
       "keywords          Adult;California;epidemiology;Cohort Studies;H...\n",
       "authors           Edward R Cachay; Simon D W Frost; Douglas D Ri...\n",
       "venue                {'name': 'The Journal of infectious diseases'}\n",
       "doi                                                  10.1086/513568\n",
       "combined_text     Herpes simplex virus type 2 infection does not...\n",
       "embedding         [0.025286998599767685, -0.01651591807603836, 0...\n",
       "cluster                                                           6\n",
       "Name: 0, dtype: object"
      ]
     },
     "execution_count": 42,
     "metadata": {},
     "output_type": "execute_result"
    }
   ],
   "source": [
    "df.iloc[0]"
   ]
  },
  {
   "cell_type": "code",
   "execution_count": 46,
   "id": "91ef10d8",
   "metadata": {},
   "outputs": [
    {
     "name": "stdout",
     "output_type": "stream",
     "text": [
      "Herpes simplex virus type 2 infection does not influence viral dynamics during early HIV 1 infection\n",
      "We sought to compare baseline and longitudinal plasma HIV-1 loads between herpes simplex virus type 2 (HSV-2)-seropositive and -seronegative individuals who are enrolled in a primary HIV-1 infection cohort in San Diego, California.\n",
      "6\n"
     ]
    }
   ],
   "source": [
    "idx = 0\n",
    "print(df.iloc[idx][\"title\"])\n",
    "print(df.iloc[idx][\"abstract\"])\n",
    "print(df.iloc[idx][\"cluster\"])\n",
    "\n"
   ]
  },
  {
   "cell_type": "code",
   "execution_count": 50,
   "id": "3e0b3ebb",
   "metadata": {},
   "outputs": [
    {
     "name": "stdout",
     "output_type": "stream",
     "text": [
      "Herpes simplex virus type 2 acquisition during recent HIV infection does not influence plasma HIV levels\n",
      "We assessed the effect of herpes simplex virus type 2 (HSV-2) acquisition on the plasma HIV RNA and CD4 cell levels among individuals with primary HIV infection using a retrospective cohort analysis. We studied 119 adult, antiretroviral-naive, recently HIV-infected men with a negative HSV-2-specific enzyme immunoassay (EIA) result at enrollment. HSV-2 acquisition was determined by seroconversion on HSV-2 EIA, confirmed by Western blot analysis. Ten men acquired HSV-2 infection a median of 1.3 years after HIV infection (HSV-2 incidence rate of 7.4 per 100 person-years of follow-up). The median time of follow-up after acquiring HSV-2 infection was 303 days. All men except 1 were asymptomatic during HSV-2 acquisition, and only 1 HSV-2 seroconverter, who was asymptomatic, had a transient increase in blood HIV load (0.5 log10 copies/mL over 11 days). The HSV-2 incidence rate was high in our cohort of recently HIV-infected individuals; however, HSV-2 acquisition did not significantly change the plasma HIV dynamics and CD4 cell levels.\n",
      "87\n"
     ]
    }
   ],
   "source": [
    "idx = 4370\n",
    "\n",
    "print(df.iloc[idx][\"title\"])\n",
    "print(df.iloc[idx][\"abstract\"])\n",
    "print(df.iloc[idx][\"cluster\"])\n"
   ]
  },
  {
   "cell_type": "code",
   "execution_count": 21,
   "id": "157738d4",
   "metadata": {},
   "outputs": [],
   "source": [
    "def info_nce_loss(proj, gcn, temperature=0.1):\n",
    "    proj = torch.nn.functional.normalize(proj, dim=1)\n",
    "    gcn = torch.nn.functional.normalize(gcn, dim=1)\n",
    "    logits = torch.matmul(proj, gcn.T) / temperature\n",
    "    labels = torch.arange(len(proj)).to(proj.device)\n",
    "    return torch.nn.functional.cross_entropy(logits, labels)\n",
    "\n",
    "def mse_alignment_loss(gcn_features, projected_features):\n",
    "    return torch.nn.functional.mse_loss(projected_features, gcn_features)\n",
    "\n",
    "def cosine_alignment_loss(gcn_features, projected_features):\n",
    "    gcn_features = torch.nn.functional.normalize(gcn_features, dim=1)\n",
    "    projected_features = torch.nn.functional.normalize(projected_features, dim=1)\n",
    "    return 1 - (gcn_features * projected_features).sum(dim=1).mean()"
   ]
  },
  {
   "cell_type": "code",
   "execution_count": 22,
   "id": "8059fa70",
   "metadata": {},
   "outputs": [],
   "source": [
    "projector = torch.nn.Sequential(\n",
    "    torch.nn.Linear(768, 512),\n",
    "    torch.nn.ReLU(),\n",
    "    torch.nn.Linear(512, 256),\n",
    "    torch.nn.ReLU(),\n",
    "    torch.nn.Linear(256, 128),\n",
    ").to(device)"
   ]
  },
  {
   "cell_type": "code",
   "execution_count": null,
   "id": "59c79a3e",
   "metadata": {},
   "outputs": [],
   "source": [
    "embeddingDataset = TensorDataset(torch.tensor(embeddings), newTrainEmbeddings)\n",
    "embeddingsLoader = DataLoader(embeddingDataset, 128)"
   ]
  },
  {
   "cell_type": "code",
   "execution_count": 24,
   "id": "2769b16f",
   "metadata": {},
   "outputs": [
    {
     "data": {
      "text/plain": [
       "(42000, 768)"
      ]
     },
     "execution_count": 24,
     "metadata": {},
     "output_type": "execute_result"
    }
   ],
   "source": [
    "embeddings.shape"
   ]
  },
  {
   "cell_type": "code",
   "execution_count": 25,
   "id": "06aaabae",
   "metadata": {},
   "outputs": [],
   "source": [
    "projectorOptim = torch.optim.Adam(projector.parameters(), lr=1e-3)\n"
   ]
  },
  {
   "cell_type": "code",
   "execution_count": null,
   "id": "f4ae18ea",
   "metadata": {},
   "outputs": [
    {
     "name": "stderr",
     "output_type": "stream",
     "text": [
      "Epoch 0:   0%|          | 0/329 [00:00<?, ?it/s]"
     ]
    },
    {
     "name": "stderr",
     "output_type": "stream",
     "text": [
      "                                                                                                \r"
     ]
    },
    {
     "name": "stdout",
     "output_type": "stream",
     "text": [
      "Epoch 000 | Loss: 0.0864 | Cosine Sim: 0.9136 | MSE: 4.1295\n"
     ]
    },
    {
     "name": "stderr",
     "output_type": "stream",
     "text": [
      "                                                                                                \r"
     ]
    },
    {
     "name": "stdout",
     "output_type": "stream",
     "text": [
      "Epoch 001 | Loss: 0.0392 | Cosine Sim: 0.9608 | MSE: 3.7253\n"
     ]
    },
    {
     "name": "stderr",
     "output_type": "stream",
     "text": [
      "                                                                                                \r"
     ]
    },
    {
     "name": "stdout",
     "output_type": "stream",
     "text": [
      "Epoch 002 | Loss: 0.0368 | Cosine Sim: 0.9632 | MSE: 3.4783\n"
     ]
    },
    {
     "name": "stderr",
     "output_type": "stream",
     "text": [
      "                                                                                                \r"
     ]
    },
    {
     "name": "stdout",
     "output_type": "stream",
     "text": [
      "Epoch 003 | Loss: 0.0354 | Cosine Sim: 0.9646 | MSE: 3.2415\n"
     ]
    },
    {
     "name": "stderr",
     "output_type": "stream",
     "text": [
      "                                                                                                 \r"
     ]
    },
    {
     "name": "stdout",
     "output_type": "stream",
     "text": [
      "Epoch 004 | Loss: 0.0343 | Cosine Sim: 0.9657 | MSE: 3.0185\n"
     ]
    },
    {
     "name": "stderr",
     "output_type": "stream",
     "text": [
      "                                                                                                 \r"
     ]
    },
    {
     "name": "stdout",
     "output_type": "stream",
     "text": [
      "Epoch 005 | Loss: 0.0335 | Cosine Sim: 0.9665 | MSE: 2.8055\n"
     ]
    },
    {
     "name": "stderr",
     "output_type": "stream",
     "text": [
      "                                                                                                 \r"
     ]
    },
    {
     "name": "stdout",
     "output_type": "stream",
     "text": [
      "Epoch 006 | Loss: 0.0329 | Cosine Sim: 0.9671 | MSE: 2.5987\n"
     ]
    },
    {
     "name": "stderr",
     "output_type": "stream",
     "text": [
      "                                                                                                 \r"
     ]
    },
    {
     "name": "stdout",
     "output_type": "stream",
     "text": [
      "Epoch 007 | Loss: 0.0323 | Cosine Sim: 0.9677 | MSE: 2.3991\n"
     ]
    },
    {
     "name": "stderr",
     "output_type": "stream",
     "text": [
      "                                                                                                 \r"
     ]
    },
    {
     "name": "stdout",
     "output_type": "stream",
     "text": [
      "Epoch 008 | Loss: 0.0317 | Cosine Sim: 0.9683 | MSE: 2.2088\n"
     ]
    },
    {
     "name": "stderr",
     "output_type": "stream",
     "text": [
      "                                                                                                 \r"
     ]
    },
    {
     "name": "stdout",
     "output_type": "stream",
     "text": [
      "Epoch 009 | Loss: 0.0312 | Cosine Sim: 0.9688 | MSE: 2.0289\n"
     ]
    },
    {
     "name": "stderr",
     "output_type": "stream",
     "text": [
      "                                                                                                  \r"
     ]
    },
    {
     "name": "stdout",
     "output_type": "stream",
     "text": [
      "Epoch 010 | Loss: 0.0307 | Cosine Sim: 0.9693 | MSE: 1.8558\n"
     ]
    },
    {
     "name": "stderr",
     "output_type": "stream",
     "text": [
      "                                                                                                  \r"
     ]
    },
    {
     "name": "stdout",
     "output_type": "stream",
     "text": [
      "Epoch 011 | Loss: 0.0303 | Cosine Sim: 0.9697 | MSE: 1.6911\n"
     ]
    },
    {
     "name": "stderr",
     "output_type": "stream",
     "text": [
      "                                                                                                  \r"
     ]
    },
    {
     "name": "stdout",
     "output_type": "stream",
     "text": [
      "Epoch 012 | Loss: 0.0299 | Cosine Sim: 0.9701 | MSE: 1.5356\n"
     ]
    },
    {
     "name": "stderr",
     "output_type": "stream",
     "text": [
      "                                                                                                  \r"
     ]
    },
    {
     "name": "stdout",
     "output_type": "stream",
     "text": [
      "Epoch 013 | Loss: 0.0295 | Cosine Sim: 0.9705 | MSE: 1.3894\n"
     ]
    },
    {
     "name": "stderr",
     "output_type": "stream",
     "text": [
      "                                                                                                   \r"
     ]
    },
    {
     "name": "stdout",
     "output_type": "stream",
     "text": [
      "Epoch 014 | Loss: 0.0291 | Cosine Sim: 0.9709 | MSE: 1.2518\n"
     ]
    },
    {
     "name": "stderr",
     "output_type": "stream",
     "text": [
      "                                                                                                   \r"
     ]
    },
    {
     "name": "stdout",
     "output_type": "stream",
     "text": [
      "Epoch 015 | Loss: 0.0288 | Cosine Sim: 0.9712 | MSE: 1.1242\n"
     ]
    },
    {
     "name": "stderr",
     "output_type": "stream",
     "text": [
      "                                                                                                   \r"
     ]
    },
    {
     "name": "stdout",
     "output_type": "stream",
     "text": [
      "Epoch 016 | Loss: 0.0284 | Cosine Sim: 0.9716 | MSE: 1.0080\n"
     ]
    },
    {
     "name": "stderr",
     "output_type": "stream",
     "text": [
      "                                                                                                   \r"
     ]
    },
    {
     "name": "stdout",
     "output_type": "stream",
     "text": [
      "Epoch 017 | Loss: 0.0280 | Cosine Sim: 0.9720 | MSE: 0.9026\n"
     ]
    },
    {
     "name": "stderr",
     "output_type": "stream",
     "text": [
      "                                                                                                   \r"
     ]
    },
    {
     "name": "stdout",
     "output_type": "stream",
     "text": [
      "Epoch 018 | Loss: 0.0276 | Cosine Sim: 0.9724 | MSE: 0.8089\n"
     ]
    },
    {
     "name": "stderr",
     "output_type": "stream",
     "text": [
      "                                                                                                   \r"
     ]
    },
    {
     "name": "stdout",
     "output_type": "stream",
     "text": [
      "Epoch 019 | Loss: 0.0273 | Cosine Sim: 0.9727 | MSE: 0.7269\n"
     ]
    },
    {
     "name": "stderr",
     "output_type": "stream",
     "text": [
      "                                                                                                   \r"
     ]
    },
    {
     "name": "stdout",
     "output_type": "stream",
     "text": [
      "Epoch 020 | Loss: 0.0269 | Cosine Sim: 0.9731 | MSE: 0.6547\n"
     ]
    },
    {
     "name": "stderr",
     "output_type": "stream",
     "text": [
      "                                                                                                   \r"
     ]
    },
    {
     "name": "stdout",
     "output_type": "stream",
     "text": [
      "Epoch 021 | Loss: 0.0266 | Cosine Sim: 0.9734 | MSE: 0.5918\n"
     ]
    },
    {
     "name": "stderr",
     "output_type": "stream",
     "text": [
      "                                                                                                   \r"
     ]
    },
    {
     "name": "stdout",
     "output_type": "stream",
     "text": [
      "Epoch 022 | Loss: 0.0263 | Cosine Sim: 0.9737 | MSE: 0.5374\n"
     ]
    },
    {
     "name": "stderr",
     "output_type": "stream",
     "text": [
      "                                                                                                   \r"
     ]
    },
    {
     "name": "stdout",
     "output_type": "stream",
     "text": [
      "Epoch 023 | Loss: 0.0260 | Cosine Sim: 0.9740 | MSE: 0.4919\n"
     ]
    },
    {
     "name": "stderr",
     "output_type": "stream",
     "text": [
      "                                                                                                   \r"
     ]
    },
    {
     "name": "stdout",
     "output_type": "stream",
     "text": [
      "Epoch 024 | Loss: 0.0257 | Cosine Sim: 0.9743 | MSE: 0.4538\n"
     ]
    },
    {
     "name": "stderr",
     "output_type": "stream",
     "text": [
      "                                                                                                   \r"
     ]
    },
    {
     "ename": "KeyboardInterrupt",
     "evalue": "",
     "output_type": "error",
     "traceback": [
      "\u001b[0;31m---------------------------------------------------------------------------\u001b[0m",
      "\u001b[0;31mKeyboardInterrupt\u001b[0m                         Traceback (most recent call last)",
      "Cell \u001b[0;32mIn[26], line 46\u001b[0m\n\u001b[1;32m     43\u001b[0m mse \u001b[38;5;241m=\u001b[39m F\u001b[38;5;241m.\u001b[39mmse_loss(projected_features, gnnFeat)\u001b[38;5;241m.\u001b[39mitem()\n\u001b[1;32m     45\u001b[0m projectorOptim\u001b[38;5;241m.\u001b[39mzero_grad()\n\u001b[0;32m---> 46\u001b[0m \u001b[43mloss\u001b[49m\u001b[38;5;241;43m.\u001b[39;49m\u001b[43mbackward\u001b[49m\u001b[43m(\u001b[49m\u001b[43m)\u001b[49m\n\u001b[1;32m     47\u001b[0m projectorOptim\u001b[38;5;241m.\u001b[39mstep()\n\u001b[1;32m     49\u001b[0m \u001b[38;5;66;03m# Track stats\u001b[39;00m\n",
      "File \u001b[0;32m~/Downloads/ENTER/envs/HW/lib/python3.10/site-packages/torch/_tensor.py:492\u001b[0m, in \u001b[0;36mTensor.backward\u001b[0;34m(self, gradient, retain_graph, create_graph, inputs)\u001b[0m\n\u001b[1;32m    482\u001b[0m \u001b[38;5;28;01mif\u001b[39;00m has_torch_function_unary(\u001b[38;5;28mself\u001b[39m):\n\u001b[1;32m    483\u001b[0m     \u001b[38;5;28;01mreturn\u001b[39;00m handle_torch_function(\n\u001b[1;32m    484\u001b[0m         Tensor\u001b[38;5;241m.\u001b[39mbackward,\n\u001b[1;32m    485\u001b[0m         (\u001b[38;5;28mself\u001b[39m,),\n\u001b[0;32m   (...)\u001b[0m\n\u001b[1;32m    490\u001b[0m         inputs\u001b[38;5;241m=\u001b[39minputs,\n\u001b[1;32m    491\u001b[0m     )\n\u001b[0;32m--> 492\u001b[0m \u001b[43mtorch\u001b[49m\u001b[38;5;241;43m.\u001b[39;49m\u001b[43mautograd\u001b[49m\u001b[38;5;241;43m.\u001b[39;49m\u001b[43mbackward\u001b[49m\u001b[43m(\u001b[49m\n\u001b[1;32m    493\u001b[0m \u001b[43m    \u001b[49m\u001b[38;5;28;43mself\u001b[39;49m\u001b[43m,\u001b[49m\u001b[43m \u001b[49m\u001b[43mgradient\u001b[49m\u001b[43m,\u001b[49m\u001b[43m \u001b[49m\u001b[43mretain_graph\u001b[49m\u001b[43m,\u001b[49m\u001b[43m \u001b[49m\u001b[43mcreate_graph\u001b[49m\u001b[43m,\u001b[49m\u001b[43m \u001b[49m\u001b[43minputs\u001b[49m\u001b[38;5;241;43m=\u001b[39;49m\u001b[43minputs\u001b[49m\n\u001b[1;32m    494\u001b[0m \u001b[43m\u001b[49m\u001b[43m)\u001b[49m\n",
      "File \u001b[0;32m~/Downloads/ENTER/envs/HW/lib/python3.10/site-packages/torch/autograd/__init__.py:251\u001b[0m, in \u001b[0;36mbackward\u001b[0;34m(tensors, grad_tensors, retain_graph, create_graph, grad_variables, inputs)\u001b[0m\n\u001b[1;32m    246\u001b[0m     retain_graph \u001b[38;5;241m=\u001b[39m create_graph\n\u001b[1;32m    248\u001b[0m \u001b[38;5;66;03m# The reason we repeat the same comment below is that\u001b[39;00m\n\u001b[1;32m    249\u001b[0m \u001b[38;5;66;03m# some Python versions print out the first line of a multi-line function\u001b[39;00m\n\u001b[1;32m    250\u001b[0m \u001b[38;5;66;03m# calls in the traceback and some print out the last line\u001b[39;00m\n\u001b[0;32m--> 251\u001b[0m \u001b[43mVariable\u001b[49m\u001b[38;5;241;43m.\u001b[39;49m\u001b[43m_execution_engine\u001b[49m\u001b[38;5;241;43m.\u001b[39;49m\u001b[43mrun_backward\u001b[49m\u001b[43m(\u001b[49m\u001b[43m  \u001b[49m\u001b[38;5;66;43;03m# Calls into the C++ engine to run the backward pass\u001b[39;49;00m\n\u001b[1;32m    252\u001b[0m \u001b[43m    \u001b[49m\u001b[43mtensors\u001b[49m\u001b[43m,\u001b[49m\n\u001b[1;32m    253\u001b[0m \u001b[43m    \u001b[49m\u001b[43mgrad_tensors_\u001b[49m\u001b[43m,\u001b[49m\n\u001b[1;32m    254\u001b[0m \u001b[43m    \u001b[49m\u001b[43mretain_graph\u001b[49m\u001b[43m,\u001b[49m\n\u001b[1;32m    255\u001b[0m \u001b[43m    \u001b[49m\u001b[43mcreate_graph\u001b[49m\u001b[43m,\u001b[49m\n\u001b[1;32m    256\u001b[0m \u001b[43m    \u001b[49m\u001b[43minputs\u001b[49m\u001b[43m,\u001b[49m\n\u001b[1;32m    257\u001b[0m \u001b[43m    \u001b[49m\u001b[43mallow_unreachable\u001b[49m\u001b[38;5;241;43m=\u001b[39;49m\u001b[38;5;28;43;01mTrue\u001b[39;49;00m\u001b[43m,\u001b[49m\n\u001b[1;32m    258\u001b[0m \u001b[43m    \u001b[49m\u001b[43maccumulate_grad\u001b[49m\u001b[38;5;241;43m=\u001b[39;49m\u001b[38;5;28;43;01mTrue\u001b[39;49;00m\u001b[43m,\u001b[49m\n\u001b[1;32m    259\u001b[0m \u001b[43m\u001b[49m\u001b[43m)\u001b[49m\n",
      "\u001b[0;31mKeyboardInterrupt\u001b[0m: "
     ]
    }
   ],
   "source": [
    "# for epoch in tqdm(range(100)):\n",
    "#     for sentenceFeat, gnnFeat in embeddingsLoader:\n",
    "#         sentenceFeat, gnnFeat = sentenceFeat.to(device), gnnFeat.to(device)\n",
    "\n",
    "#         projected_features = projector(sentenceFeat)\n",
    "\n",
    "#         # Choose your loss\n",
    "#         loss = cosine_alignment_loss(gnnFeat, projected_features)\n",
    "\n",
    "#         projectorOptim.zero_grad()\n",
    "#         loss.backward()\n",
    "#         optimizer.step()\n",
    "\n",
    "#     print(f\"Epoch {epoch}: {loss.item()}\")\n",
    "\n",
    "import torch.nn.functional as F\n",
    "\n",
    "for epoch in range(25):\n",
    "    epoch_loss = 0.0\n",
    "    epoch_mse = 0.0\n",
    "    epoch_cos_sim = 0.0\n",
    "    total_batches = 0\n",
    "\n",
    "    projector.train()\n",
    "\n",
    "    loop = tqdm(embeddingsLoader, desc=f\"Epoch {epoch}\", leave=False)\n",
    "    for sentenceFeat, gnnFeat in loop:\n",
    "        sentenceFeat, gnnFeat = sentenceFeat.to(device), gnnFeat.to(device)\n",
    "\n",
    "        projected_features = projector(sentenceFeat)\n",
    "\n",
    "        # Alignment loss (e.g., cosine loss or InfoNCE)\n",
    "        loss = cosine_alignment_loss(gnnFeat, projected_features)\n",
    "\n",
    "        # Metric 1: Cosine similarity\n",
    "        cos_sim = F.cosine_similarity(\n",
    "            F.normalize(projected_features, dim=1),\n",
    "            F.normalize(gnnFeat, dim=1),\n",
    "            dim=1\n",
    "        ).mean().item()\n",
    "\n",
    "        # Metric 2: MSE\n",
    "        mse = F.mse_loss(projected_features, gnnFeat).item()\n",
    "\n",
    "        projectorOptim.zero_grad()\n",
    "        loss.backward()\n",
    "        projectorOptim.step()\n",
    "\n",
    "        # Track stats\n",
    "        epoch_loss += loss.item()\n",
    "        epoch_cos_sim += cos_sim\n",
    "        epoch_mse += mse\n",
    "        total_batches += 1\n",
    "\n",
    "        loop.set_postfix(loss=loss.item(), cosine=cos_sim, mse=mse)\n",
    "\n",
    "    # Averages for the epoch\n",
    "    avg_loss = epoch_loss / total_batches\n",
    "    avg_cos = epoch_cos_sim / total_batches\n",
    "    avg_mse = epoch_mse / total_batches\n",
    "\n",
    "    print(f\"Epoch {epoch:03d} | Loss: {avg_loss:.4f} | Cosine Sim: {avg_cos:.4f} | MSE: {avg_mse:.4f}\")"
   ]
  },
  {
   "cell_type": "code",
   "execution_count": 27,
   "id": "2e9fe7e2",
   "metadata": {},
   "outputs": [],
   "source": [
    "query = sentTransformer.encode(\"Does HSV-2 infection affect HIV-1 viral load during early infection?\", convert_to_tensor=True).unsqueeze(0)"
   ]
  },
  {
   "cell_type": "code",
   "execution_count": 46,
   "id": "218ff794",
   "metadata": {},
   "outputs": [
    {
     "data": {
      "text/plain": [
       "tensor([[ 0.9475,  0.1267, -0.7355,  2.3193, -1.0245,  5.4224, -0.2830,  5.3337,\n",
       "          1.1157, -1.3054,  0.9092,  3.5090,  0.9092, -1.9904,  5.9561,  1.8709,\n",
       "         -0.8519,  4.1124, -5.8601, -3.2842,  0.8364, -1.7003, -2.5755,  2.5388,\n",
       "          0.1860, -4.8581, -0.0871, -0.0883, -4.0005,  0.4310,  3.0253,  0.5420,\n",
       "          1.1632,  0.6783, -1.9242, -0.5274, -2.2086, -2.8591, -1.2566,  3.7541,\n",
       "          1.6410, -5.4824, -4.4069, -2.0614, -1.3832, -0.8065, -2.8015, -4.5868,\n",
       "          0.4555,  2.3108,  0.7342, -0.4800,  4.1041,  0.5223,  4.1886, -1.6070,\n",
       "         -1.0340, -0.6285, -3.6189, -2.9228, -2.0556,  0.5181,  3.5922, -3.6828,\n",
       "         -2.5354, -0.7375, -2.1428,  1.0271,  2.0640, -0.4872,  0.1799,  2.5157,\n",
       "         -0.1506, -3.8132, -3.9102,  3.4707, -1.8599,  0.8882,  0.1442, -1.5927,\n",
       "         -1.5980,  0.3055,  1.0181, -4.4591, -0.9713, -0.6892, -0.2785, -1.7720,\n",
       "         -0.9992,  1.6119, -1.3113,  2.3926, -1.3130,  1.7119, -0.3259,  1.3891,\n",
       "          0.5427, -1.0244, -3.4228,  1.5987, -1.7591, -1.1926,  1.5818,  3.0205,\n",
       "          0.1231, -1.5201, -1.5223, -1.4930,  0.0401, -0.2948,  0.1961,  1.0238,\n",
       "          1.3073, -0.7139, -1.9914,  3.6083,  2.0861,  1.9938,  0.3898, -4.3516,\n",
       "          1.4113,  1.9613,  0.0272, -0.4417, -0.4647, -0.3594, -3.0977,  1.4238]],\n",
       "       device='cuda:1', grad_fn=<AddmmBackward0>)"
      ]
     },
     "execution_count": 46,
     "metadata": {},
     "output_type": "execute_result"
    }
   ],
   "source": [
    "projector(query)"
   ]
  },
  {
   "cell_type": "code",
   "execution_count": null,
   "id": "2a220a40",
   "metadata": {},
   "outputs": [],
   "source": [
    "cosine_sim = F.cosine_similarity(projector(query), newTrainEmbeddings, dim=1)  # shape: [N]\n",
    "\n",
    "topk = torch.topk(cosine_sim, k=10)  # top 5 most similar articles\n",
    "topk_indices = topk.indices\n",
    "topk_scores = topk.values\n"
   ]
  },
  {
   "cell_type": "code",
   "execution_count": 38,
   "id": "d0fcb789",
   "metadata": {},
   "outputs": [
    {
     "name": "stdout",
     "output_type": "stream",
     "text": [
      "tensor([0.9207, 0.8988, 0.8988, 0.8958, 0.8947, 0.8916, 0.8899, 0.8866, 0.8835,\n",
      "        0.8832], device='cuda:1', grad_fn=<TopkBackward0>)\n"
     ]
    },
    {
     "data": {
      "text/plain": [
       "tensor([    0, 20621,  4707,  4370, 19191, 21945, 32237, 16548,  8605,  3334],\n",
       "       device='cuda:1')"
      ]
     },
     "execution_count": 38,
     "metadata": {},
     "output_type": "execute_result"
    }
   ],
   "source": [
    "print(topk_scores)\n",
    "topk_indices"
   ]
  },
  {
   "cell_type": "code",
   "execution_count": 58,
   "id": "0c33b79b",
   "metadata": {},
   "outputs": [
    {
     "name": "stdout",
     "output_type": "stream",
     "text": [
      "tensor([0.9356, 0.9348, 0.9341, 0.9319, 0.9285], device='cuda:1',\n",
      "       grad_fn=<TopkBackward0>)\n"
     ]
    },
    {
     "data": {
      "text/plain": [
       "tensor([32237, 16548,     0,  4370,  3334], device='cuda:1')"
      ]
     },
     "execution_count": 58,
     "metadata": {},
     "output_type": "execute_result"
    }
   ],
   "source": [
    "print(topk_scores)\n",
    "topk_indices"
   ]
  },
  {
   "cell_type": "code",
   "execution_count": 34,
   "id": "7680f22b",
   "metadata": {},
   "outputs": [
    {
     "name": "stdout",
     "output_type": "stream",
     "text": [
      "Herpes simplex virus type 2 acquisition during recent HIV infection does not influence plasma HIV levels\n",
      "We assessed the effect of herpes simplex virus type 2 (HSV-2) acquisition on the plasma HIV RNA and CD4 cell levels among individuals with primary HIV infection using a retrospective cohort analysis. We studied 119 adult, antiretroviral-naive, recently HIV-infected men with a negative HSV-2-specific enzyme immunoassay (EIA) result at enrollment. HSV-2 acquisition was determined by seroconversion on HSV-2 EIA, confirmed by Western blot analysis. Ten men acquired HSV-2 infection a median of 1.3 years after HIV infection (HSV-2 incidence rate of 7.4 per 100 person-years of follow-up). The median time of follow-up after acquiring HSV-2 infection was 303 days. All men except 1 were asymptomatic during HSV-2 acquisition, and only 1 HSV-2 seroconverter, who was asymptomatic, had a transient increase in blood HIV load (0.5 log10 copies/mL over 11 days). The HSV-2 incidence rate was high in our cohort of recently HIV-infected individuals; however, HSV-2 acquisition did not significantly change the plasma HIV dynamics and CD4 cell levels.\n",
      "87\n"
     ]
    }
   ],
   "source": [
    "idx = 4370\n",
    "print(df.iloc[idx][\"title\"])\n",
    "print(df.iloc[idx][\"abstract\"])\n",
    "print(df.iloc[idx][\"cluster\"])\n",
    "\n"
   ]
  },
  {
   "cell_type": "code",
   "execution_count": 70,
   "id": "2f25f45b",
   "metadata": {},
   "outputs": [
    {
     "data": {
      "text/plain": [
       "1478"
      ]
     },
     "execution_count": 70,
     "metadata": {},
     "output_type": "execute_result"
    }
   ],
   "source": [
    "pubIdToId[9738515]"
   ]
  },
  {
   "cell_type": "code",
   "execution_count": null,
   "id": "ea4272ce",
   "metadata": {},
   "outputs": [
    {
     "name": "stdout",
     "output_type": "stream",
     "text": [
      "17957262: HIV 1 HSV 2 co infected adults in early HIV 1 infection have elevated CD4 T cell counts\n",
      "16973556: Selection on the human immunodeficiency virus type 1 proteome following primary infection\n",
      "17396995: Herpes simplex virus type 2 infection does not influence viral dynamics during early HIV 1 infection\n",
      "18197122: Herpes simplex virus type 2 acquisition during recent HIV infection does not influence plasma HIV levels\n",
      "18936487: HIV rebounds from latently infected cells rather than from continuing low level replication\n"
     ]
    }
   ],
   "source": [
    "for val in topk_indices:\n",
    "    pubID = df.iloc[val.cpu().item()][\"publication_ID\"]\n",
    "    title = df.iloc[val.cpu().item()][\"title\"]\n",
    "    \n",
    "    print(f\"{pubID}: {title}\")\n"
   ]
  },
  {
   "cell_type": "code",
   "execution_count": null,
   "id": "b2bc46f9",
   "metadata": {},
   "outputs": [],
   "source": [
    "1478"
   ]
  },
  {
   "cell_type": "code",
   "execution_count": 74,
   "id": "9c069723",
   "metadata": {},
   "outputs": [
    {
     "data": {
      "text/html": [
       "<div>\n",
       "<style scoped>\n",
       "    .dataframe tbody tr th:only-of-type {\n",
       "        vertical-align: middle;\n",
       "    }\n",
       "\n",
       "    .dataframe tbody tr th {\n",
       "        vertical-align: top;\n",
       "    }\n",
       "\n",
       "    .dataframe thead th {\n",
       "        text-align: right;\n",
       "    }\n",
       "</style>\n",
       "<table border=\"1\" class=\"dataframe\">\n",
       "  <thead>\n",
       "    <tr style=\"text-align: right;\">\n",
       "      <th></th>\n",
       "      <th>publication_ID</th>\n",
       "      <th>Citations</th>\n",
       "      <th>pubDate</th>\n",
       "      <th>language</th>\n",
       "      <th>title</th>\n",
       "      <th>journal</th>\n",
       "      <th>abstract</th>\n",
       "      <th>keywords</th>\n",
       "      <th>authors</th>\n",
       "      <th>venue</th>\n",
       "      <th>doi</th>\n",
       "      <th>combined_text</th>\n",
       "      <th>embedding</th>\n",
       "      <th>cluster</th>\n",
       "    </tr>\n",
       "  </thead>\n",
       "  <tbody>\n",
       "    <tr>\n",
       "      <th>888</th>\n",
       "      <td>9738515</td>\n",
       "      <td>22408488;21943363;20878774;30075569;31996227;3...</td>\n",
       "      <td>1998 Sep</td>\n",
       "      <td>eng</td>\n",
       "      <td>Early changes in biochemical markers of bone t...</td>\n",
       "      <td>Journal of bone and mineral research : the off...</td>\n",
       "      <td>Although the antiresorptive agent alendronate ...</td>\n",
       "      <td>Aged;Alendronate;administration &amp; dosage;thera...</td>\n",
       "      <td>S L Greenspan; R A Parker; L Ferguson; H N Ros...</td>\n",
       "      <td>{'name': 'Journal of bone and mineral research...</td>\n",
       "      <td>10.1359/jbmr.1998.13.9.1431</td>\n",
       "      <td>Early changes in biochemical markers of bone t...</td>\n",
       "      <td>[0.0006918551516719162, -0.038948796689510345,...</td>\n",
       "      <td>67</td>\n",
       "    </tr>\n",
       "  </tbody>\n",
       "</table>\n",
       "</div>"
      ],
      "text/plain": [
       "     publication_ID                                          Citations  \\\n",
       "888         9738515  22408488;21943363;20878774;30075569;31996227;3...   \n",
       "\n",
       "      pubDate language                                              title  \\\n",
       "888  1998 Sep      eng  Early changes in biochemical markers of bone t...   \n",
       "\n",
       "                                               journal  \\\n",
       "888  Journal of bone and mineral research : the off...   \n",
       "\n",
       "                                              abstract  \\\n",
       "888  Although the antiresorptive agent alendronate ...   \n",
       "\n",
       "                                              keywords  \\\n",
       "888  Aged;Alendronate;administration & dosage;thera...   \n",
       "\n",
       "                                               authors  \\\n",
       "888  S L Greenspan; R A Parker; L Ferguson; H N Ros...   \n",
       "\n",
       "                                                 venue  \\\n",
       "888  {'name': 'Journal of bone and mineral research...   \n",
       "\n",
       "                             doi  \\\n",
       "888  10.1359/jbmr.1998.13.9.1431   \n",
       "\n",
       "                                         combined_text  \\\n",
       "888  Early changes in biochemical markers of bone t...   \n",
       "\n",
       "                                             embedding  cluster  \n",
       "888  [0.0006918551516719162, -0.038948796689510345,...       67  "
      ]
     },
     "execution_count": 74,
     "metadata": {},
     "output_type": "execute_result"
    }
   ],
   "source": [
    "df[df[\"publication_ID\"] == 9738515]"
   ]
  },
  {
   "cell_type": "code",
   "execution_count": 75,
   "id": "14025c57",
   "metadata": {},
   "outputs": [
    {
     "data": {
      "text/plain": [
       "'Early changes in biochemical markers of bone turnover predict the long term response to alendronate therapy in representative elderly women a randomized clinical trial'"
      ]
     },
     "execution_count": 75,
     "metadata": {},
     "output_type": "execute_result"
    }
   ],
   "source": [
    "df.iloc[888][\"title\"]"
   ]
  },
  {
   "cell_type": "code",
   "execution_count": 39,
   "id": "1a0b35f5",
   "metadata": {},
   "outputs": [
    {
     "data": {
      "text/plain": [
       "(42000, 768)"
      ]
     },
     "execution_count": 39,
     "metadata": {},
     "output_type": "execute_result"
    }
   ],
   "source": [
    "embeddings.shape"
   ]
  },
  {
   "cell_type": "code",
   "execution_count": 40,
   "id": "29507420",
   "metadata": {},
   "outputs": [],
   "source": [
    "testData = pd.read_csv(\"./publications_test.csv\")"
   ]
  },
  {
   "cell_type": "code",
   "execution_count": 44,
   "id": "206f3c9b",
   "metadata": {},
   "outputs": [
    {
     "data": {
      "text/html": [
       "<div>\n",
       "<style scoped>\n",
       "    .dataframe tbody tr th:only-of-type {\n",
       "        vertical-align: middle;\n",
       "    }\n",
       "\n",
       "    .dataframe tbody tr th {\n",
       "        vertical-align: top;\n",
       "    }\n",
       "\n",
       "    .dataframe thead th {\n",
       "        text-align: right;\n",
       "    }\n",
       "</style>\n",
       "<table border=\"1\" class=\"dataframe\">\n",
       "  <thead>\n",
       "    <tr style=\"text-align: right;\">\n",
       "      <th></th>\n",
       "      <th>publication_ID</th>\n",
       "      <th>Citations</th>\n",
       "      <th>pubDate</th>\n",
       "      <th>language</th>\n",
       "      <th>title</th>\n",
       "      <th>journal</th>\n",
       "      <th>abstract</th>\n",
       "      <th>keywords</th>\n",
       "      <th>authors</th>\n",
       "      <th>venue</th>\n",
       "      <th>doi</th>\n",
       "    </tr>\n",
       "  </thead>\n",
       "  <tbody>\n",
       "    <tr>\n",
       "      <th>0</th>\n",
       "      <td>17687455</td>\n",
       "      <td>18288294;21106102;22632576;23509683;23986703;2...</td>\n",
       "      <td>2007 Aug</td>\n",
       "      <td>eng</td>\n",
       "      <td>Elevated plasma endothelin 1 and pulmonary art...</td>\n",
       "      <td>Environmental health perspectives</td>\n",
       "      <td>Background Controlled exposures of animals and...</td>\n",
       "      <td>Adolescent;Air Pollutants;analysis;toxicity;Ai...</td>\n",
       "      <td>Lilian Calderón-Garcidueñas; Renaud Vincent; A...</td>\n",
       "      <td>{'name': 'Environmental health perspectives', ...</td>\n",
       "      <td>10.1289/ehp.9641</td>\n",
       "    </tr>\n",
       "    <tr>\n",
       "      <th>1</th>\n",
       "      <td>18000457</td>\n",
       "      <td>30090625</td>\n",
       "      <td>2007 Nov</td>\n",
       "      <td>eng</td>\n",
       "      <td>A Latent Class Analysis LCA of problem gamblin...</td>\n",
       "      <td>The Journal of nervous and mental disease</td>\n",
       "      <td>Problem gambling rates are relatively low (2%-...</td>\n",
       "      <td>Adolescent;Adult;Aged;Aged, 80 and over;Awaren...</td>\n",
       "      <td>Renee M. Cunningham-Williams; Song Iee Hong</td>\n",
       "      <td>{'name': 'The Journal of nervous and mental di...</td>\n",
       "      <td>10.1097/NMD.0b013e31815947e1</td>\n",
       "    </tr>\n",
       "    <tr>\n",
       "      <th>2</th>\n",
       "      <td>21359119</td>\n",
       "      <td>31763180;32373066</td>\n",
       "      <td>2010 Sep 29</td>\n",
       "      <td>ENG</td>\n",
       "      <td>Aripiprazole for irritability associated with ...</td>\n",
       "      <td>Pediatric health</td>\n",
       "      <td>Aripiprazole was recently US FDA-approved to t...</td>\n",
       "      <td>0</td>\n",
       "      <td>Kelly Blankenship; Craig A Erickson; Kimberly ...</td>\n",
       "      <td>{'name': 'Pediatric health', 'id': '5451a5cae0...</td>\n",
       "      <td>10.2217/phe.10.45</td>\n",
       "    </tr>\n",
       "    <tr>\n",
       "      <th>3</th>\n",
       "      <td>18991128</td>\n",
       "      <td>25267381;29357099;31650460;34135829;34177747;3...</td>\n",
       "      <td>2008 Oct</td>\n",
       "      <td>ENG</td>\n",
       "      <td>Refining the classification of children with s...</td>\n",
       "      <td>Journal of clinical child and adolescent psych...</td>\n",
       "      <td>The goal of this study was to develop an empir...</td>\n",
       "      <td>Anxiety Disorders;classification;diagnosis;psy...</td>\n",
       "      <td>Sharon L. Cohan; Denise A. Chavira; Elisa Ship...</td>\n",
       "      <td>{'name': 'Journal of clinical child and adoles...</td>\n",
       "      <td>10.1080/15374410802359759</td>\n",
       "    </tr>\n",
       "    <tr>\n",
       "      <th>4</th>\n",
       "      <td>20668223</td>\n",
       "      <td>24409178;24409177;24065969;25875653;25333930;3...</td>\n",
       "      <td>2010 Sep 1</td>\n",
       "      <td>eng</td>\n",
       "      <td>GILT accelerates autoimmunity to the melanoma ...</td>\n",
       "      <td>Journal of immunology (Baltimore, Md. : 1950)</td>\n",
       "      <td>Melanocyte differentiation Ags, including tyro...</td>\n",
       "      <td>Adoptive Transfer;Amino Acid Sequence;Animals;...</td>\n",
       "      <td>Matthew P Rausch; Kari R Irvine; Paul A Antony...</td>\n",
       "      <td>{'name': 'Journal of immunology (Baltimore, Md...</td>\n",
       "      <td>10.4049/jimmunol.1000945</td>\n",
       "    </tr>\n",
       "  </tbody>\n",
       "</table>\n",
       "</div>"
      ],
      "text/plain": [
       "   publication_ID                                          Citations  \\\n",
       "0        17687455  18288294;21106102;22632576;23509683;23986703;2...   \n",
       "1        18000457                                           30090625   \n",
       "2        21359119                                  31763180;32373066   \n",
       "3        18991128  25267381;29357099;31650460;34135829;34177747;3...   \n",
       "4        20668223  24409178;24409177;24065969;25875653;25333930;3...   \n",
       "\n",
       "       pubDate language                                              title  \\\n",
       "0     2007 Aug      eng  Elevated plasma endothelin 1 and pulmonary art...   \n",
       "1     2007 Nov      eng  A Latent Class Analysis LCA of problem gamblin...   \n",
       "2  2010 Sep 29      ENG  Aripiprazole for irritability associated with ...   \n",
       "3     2008 Oct      ENG  Refining the classification of children with s...   \n",
       "4   2010 Sep 1      eng  GILT accelerates autoimmunity to the melanoma ...   \n",
       "\n",
       "                                             journal  \\\n",
       "0                  Environmental health perspectives   \n",
       "1          The Journal of nervous and mental disease   \n",
       "2                                   Pediatric health   \n",
       "3  Journal of clinical child and adolescent psych...   \n",
       "4      Journal of immunology (Baltimore, Md. : 1950)   \n",
       "\n",
       "                                            abstract  \\\n",
       "0  Background Controlled exposures of animals and...   \n",
       "1  Problem gambling rates are relatively low (2%-...   \n",
       "2  Aripiprazole was recently US FDA-approved to t...   \n",
       "3  The goal of this study was to develop an empir...   \n",
       "4  Melanocyte differentiation Ags, including tyro...   \n",
       "\n",
       "                                            keywords  \\\n",
       "0  Adolescent;Air Pollutants;analysis;toxicity;Ai...   \n",
       "1  Adolescent;Adult;Aged;Aged, 80 and over;Awaren...   \n",
       "2                                                  0   \n",
       "3  Anxiety Disorders;classification;diagnosis;psy...   \n",
       "4  Adoptive Transfer;Amino Acid Sequence;Animals;...   \n",
       "\n",
       "                                             authors  \\\n",
       "0  Lilian Calderón-Garcidueñas; Renaud Vincent; A...   \n",
       "1        Renee M. Cunningham-Williams; Song Iee Hong   \n",
       "2  Kelly Blankenship; Craig A Erickson; Kimberly ...   \n",
       "3  Sharon L. Cohan; Denise A. Chavira; Elisa Ship...   \n",
       "4  Matthew P Rausch; Kari R Irvine; Paul A Antony...   \n",
       "\n",
       "                                               venue  \\\n",
       "0  {'name': 'Environmental health perspectives', ...   \n",
       "1  {'name': 'The Journal of nervous and mental di...   \n",
       "2  {'name': 'Pediatric health', 'id': '5451a5cae0...   \n",
       "3  {'name': 'Journal of clinical child and adoles...   \n",
       "4  {'name': 'Journal of immunology (Baltimore, Md...   \n",
       "\n",
       "                            doi  \n",
       "0              10.1289/ehp.9641  \n",
       "1  10.1097/NMD.0b013e31815947e1  \n",
       "2             10.2217/phe.10.45  \n",
       "3     10.1080/15374410802359759  \n",
       "4      10.4049/jimmunol.1000945  "
      ]
     },
     "execution_count": 44,
     "metadata": {},
     "output_type": "execute_result"
    }
   ],
   "source": [
    "testData.head()"
   ]
  },
  {
   "cell_type": "code",
   "execution_count": null,
   "id": "ad8f4c62",
   "metadata": {},
   "outputs": [],
   "source": [
    "\n",
    "avgCosSims = []\n",
    "\n",
    "for index, row in testData.iterrows():\n",
    "    # pubIdToCommunity[int(row[\"node_id\"])] = int(row[\"community_id\"])\n",
    "    sentence = row[\"title\"] + \". \" + str(row[\"abstract\"])\n",
    "    query = sentTransformer.encode(sentence, convert_to_tensor=True).unsqueeze(0)\n",
    "\n",
    "    cosine_sim = F.cosine_similarity(projector(query), newTrainEmbeddings, dim=1)  # shape: [N]\n",
    "\n",
    "    topk = torch.topk(cosine_sim, k=10)  # top 5 most similar articles\n",
    "    # topk_indices = topk.indices\n",
    "    topk_scores = topk.values\n",
    "\n",
    "    avgCosSims.append(topk_scores.mean().item())\n",
    "\n"
   ]
  },
  {
   "cell_type": "code",
   "execution_count": 50,
   "id": "99c086cc",
   "metadata": {},
   "outputs": [
    {
     "data": {
      "text/plain": [
       "0.8426524486409294"
      ]
     },
     "execution_count": 50,
     "metadata": {},
     "output_type": "execute_result"
    }
   ],
   "source": [
    "np.mean(avgCosSims)"
   ]
  }
 ],
 "metadata": {
  "kernelspec": {
   "display_name": "HW",
   "language": "python",
   "name": "python3"
  },
  "language_info": {
   "codemirror_mode": {
    "name": "ipython",
    "version": 3
   },
   "file_extension": ".py",
   "mimetype": "text/x-python",
   "name": "python",
   "nbconvert_exporter": "python",
   "pygments_lexer": "ipython3",
   "version": "3.10.16"
  }
 },
 "nbformat": 4,
 "nbformat_minor": 5
}
